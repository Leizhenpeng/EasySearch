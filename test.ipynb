{
 "cells": [
  {
   "cell_type": "code",
   "execution_count": 2,
   "metadata": {},
   "outputs": [
    {
     "name": "stdout",
     "output_type": "stream",
     "text": [
      "{'code': 0, 'data': [{'book_id': 'b24a24a5-d166-458c-a794-d64733737c35', 'name': 'test.txt'}], 'msg': 'success'}\n"
     ]
    }
   ],
   "source": [
    "import requests\n",
    "\n",
    "url = 'http://localhost:5050/book'\n",
    "\n",
    "res = requests.get(url)\n",
    "\n",
    "print(res.json())"
   ]
  },
  {
   "cell_type": "code",
   "execution_count": 39,
   "metadata": {},
   "outputs": [
    {
     "name": "stdout",
     "output_type": "stream",
     "text": [
      "{'code': 0, 'data': {'book_id': 'b24a24a5-d166-458c-a794-d64733737c35'}, 'msg': 'success'}\n"
     ]
    }
   ],
   "source": [
    "import os\n",
    "\n",
    "url = 'http://localhost:5050/book'\n",
    "\n",
    "path = os.path.join(os.getcwd(), \"novels/test.txt\")\n",
    "\n",
    "res = requests.post(url, files={\"book\": open(path, \"rb\")})\n",
    "\n",
    "print(res.json())"
   ]
  },
  {
   "cell_type": "code",
   "execution_count": 3,
   "metadata": {},
   "outputs": [
    {
     "name": "stdout",
     "output_type": "stream",
     "text": [
      "{'code': 0, 'data': [{'book_id': 'b24a24a5-d166-458c-a794-d64733737c35', 'name': 'test.txt'}], 'msg': 'success'}\n",
      "b24a24a5-d166-458c-a794-d64733737c35\n",
      "Time: 0.0040585994720458984\n",
      "{'code': 0, 'data': {'results': ['一切的一切都导向这样一个结果：物理学从来就没有存在过，将来也不会存在。我知道自己这样做是不负责任的，但别无选择。']}, 'msg': 'success'}\n"
     ]
    }
   ],
   "source": [
    "url = 'http://localhost:5050/book'\n",
    "\n",
    "res = requests.get(url)\n",
    "\n",
    "print(res.json())\n",
    "\n",
    "book_id = res.json()[\"data\"][0][\"book_id\"]\n",
    "print(book_id)\n",
    "\n",
    "import time\n",
    "\n",
    "start_time = time.time()\n",
    "\n",
    "url = f'http://localhost:5050/book/{book_id}?prompt=物理学从来没有'\n",
    "\n",
    "res = requests.get(url)\n",
    "\n",
    "end_time = time.time()\n",
    "\n",
    "print(f\"Time: {end_time - start_time}\")\n",
    "\n",
    "print(res.json())"
   ]
  }
 ],
 "metadata": {
  "kernelspec": {
   "display_name": ".venv",
   "language": "python",
   "name": "python3"
  },
  "language_info": {
   "codemirror_mode": {
    "name": "ipython",
    "version": 3
   },
   "file_extension": ".py",
   "mimetype": "text/x-python",
   "name": "python",
   "nbconvert_exporter": "python",
   "pygments_lexer": "ipython3",
   "version": "3.10.12"
  },
  "orig_nbformat": 4
 },
 "nbformat": 4,
 "nbformat_minor": 2
}
